{
 "cells": [
  {
   "cell_type": "code",
   "execution_count": 1,
   "metadata": {},
   "outputs": [],
   "source": [
    "from selenium import webdriver\n",
    "import time\n",
    "import csv\n",
    "from selenium.webdriver.common.keys import Keys"
   ]
  },
  {
   "cell_type": "code",
   "execution_count": 2,
   "metadata": {},
   "outputs": [],
   "source": [
    "driver=webdriver.Chrome(executable_path=r\"C:\\\\Users\\\\IBM User\\\\Desktop\\\\python\\\\chromedriver.exe\")"
   ]
  },
  {
   "cell_type": "code",
   "execution_count": 3,
   "metadata": {},
   "outputs": [],
   "source": [
    "driver.get(\"https://scholar.google.com.pk/citations?user=NXFekJ4AAAAJ&hl=en\")"
   ]
  },
  {
   "cell_type": "code",
   "execution_count": 4,
   "metadata": {},
   "outputs": [
    {
     "name": "stdout",
     "output_type": "stream",
     "text": [
      "Asim Karim\n"
     ]
    }
   ],
   "source": [
    "Authr_Name=driver.find_element_by_xpath(\"//div[contains(text(),'Asim')]\").text\n",
    "print(Authr_Name)"
   ]
  },
  {
   "cell_type": "code",
   "execution_count": 11,
   "metadata": {},
   "outputs": [
    {
     "name": "stdout",
     "output_type": "stream",
     "text": [
      "2000\n",
      "1997\n",
      "2002\n",
      "2003\n",
      "2002\n",
      "1999\n",
      "2003\n",
      "1997\n",
      "2001\n",
      "2012\n",
      "1999\n",
      "2005\n",
      "2003\n",
      "2013\n",
      "2013\n",
      "1999\n",
      "1999\n",
      "2013\n",
      "2009\n",
      "2011\n",
      "2015\n",
      "2008\n",
      "2005\n",
      "2016\n",
      "2009\n",
      "2006\n",
      "2006\n",
      "2012\n",
      "2007\n",
      "2016\n",
      "2015\n",
      "2013\n",
      "1999\n",
      "1999\n",
      "1999\n",
      "1999\n",
      "2018\n",
      "2012\n",
      "2009\n",
      "2007\n",
      "2001\n",
      "2006\n",
      "2005\n",
      "2004\n",
      "2015\n",
      "2011\n",
      "2011\n",
      "2007\n",
      "2006\n",
      "2002\n",
      "2012\n",
      "2010\n",
      "2004\n",
      "2016\n",
      "2019\n",
      "2012\n",
      "2019\n",
      "2018\n",
      "2017\n",
      "2016\n",
      "2016\n",
      "2020\n",
      "2019\n",
      "2019\n",
      "2018\n",
      "2015\n",
      "2011\n",
      "2006\n",
      "2006\n",
      "2001\n",
      "2020\n",
      "2020\n",
      "2020\n",
      "2020\n",
      "2019\n",
      "2019\n",
      "2019\n",
      "2016\n",
      "2012\n",
      "2007\n",
      "1999\n",
      "1996\n",
      "1996\n",
      "\n",
      "\n",
      "\n",
      "\n",
      "\n"
     ]
    }
   ],
   "source": [
    "fst_article_year=driver.find_elements_by_xpath(\"//tbody[@id]/tr/td[3]\")\n",
    "for i in fst_article_year:\n",
    "    print(i.text)"
   ]
  },
  {
   "cell_type": "code",
   "execution_count": 15,
   "metadata": {},
   "outputs": [
    {
     "name": "stdout",
     "output_type": "stream",
     "text": [
      "2420\n",
      "22\n",
      "38\n",
      "281\n",
      "244\n",
      "168\n",
      "167\n",
      "136\n",
      "130\n",
      "106\n",
      "106\n",
      "97\n",
      "91\n",
      "83\n",
      "77\n",
      "72\n",
      "71\n",
      "50\n",
      "46\n",
      "30\n",
      "29\n",
      "28\n",
      "25\n",
      "24\n",
      "23\n",
      "22\n",
      "21\n",
      "20\n",
      "18\n",
      "17\n",
      "14\n",
      "12\n",
      "11\n",
      "11\n",
      "11\n",
      "11\n",
      "11\n",
      "11\n",
      "11\n",
      "10\n",
      "10\n",
      "10\n",
      "10\n",
      "9\n",
      "8\n",
      "8\n",
      "8\n",
      "7\n",
      "7\n",
      "7\n",
      "7\n",
      "6\n",
      "6\n",
      "5\n",
      "5\n",
      "5\n",
      "4\n",
      "3\n",
      "3\n",
      "2\n",
      "2\n",
      "2\n",
      "2\n",
      "2\n",
      "1\n",
      "1\n",
      "1\n",
      "1\n",
      "1\n",
      "1\n",
      "1\n",
      "1\n",
      "1\n",
      "\n",
      "\n",
      "\n",
      "\n",
      "\n",
      "\n",
      "\n",
      "\n",
      "\n",
      "\n",
      "\n",
      "\n",
      "\n",
      "\n",
      "\n",
      "\n",
      "\n",
      "\n"
     ]
    }
   ],
   "source": [
    "citations=driver.find_elements_by_xpath(\"//tr//td[2]\")\n",
    "for i in citations:\n",
    "    print(i.text)"
   ]
  },
  {
   "cell_type": "code",
   "execution_count": 18,
   "metadata": {},
   "outputs": [
    {
     "name": "stdout",
     "output_type": "stream",
     "text": [
      "2420\n"
     ]
    }
   ],
   "source": [
    "total_citations=driver.find_element_by_xpath(\"//tr//td[2]\").text\n",
    "print(total_citations)"
   ]
  },
  {
   "cell_type": "code",
   "execution_count": 22,
   "metadata": {},
   "outputs": [
    {
     "name": "stdout",
     "output_type": "stream",
     "text": [
      "22\n"
     ]
    }
   ],
   "source": [
    "h_index=driver.find_elements_by_xpath(\"//tr//td[2]\")\n",
    "print(h_index[1].text)"
   ]
  },
  {
   "cell_type": "code",
   "execution_count": 23,
   "metadata": {},
   "outputs": [
    {
     "name": "stdout",
     "output_type": "stream",
     "text": [
      "38\n"
     ]
    }
   ],
   "source": [
    "i10_index=driver.find_elements_by_xpath(\"//tr//td[2]\")\n",
    "print(i10_index[2].text)"
   ]
  },
  {
   "cell_type": "code",
   "execution_count": 24,
   "metadata": {},
   "outputs": [],
   "source": [
    "driver.get(\"https://www.researchgate.net/profile/Asim_Karim\")"
   ]
  },
  {
   "cell_type": "code",
   "execution_count": null,
   "metadata": {},
   "outputs": [],
   "source": []
  }
 ],
 "metadata": {
  "kernelspec": {
   "display_name": "Python 3",
   "language": "python",
   "name": "python3"
  },
  "language_info": {
   "codemirror_mode": {
    "name": "ipython",
    "version": 3
   },
   "file_extension": ".py",
   "mimetype": "text/x-python",
   "name": "python",
   "nbconvert_exporter": "python",
   "pygments_lexer": "ipython3",
   "version": "3.7.6"
  }
 },
 "nbformat": 4,
 "nbformat_minor": 4
}
